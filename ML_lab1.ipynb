{
  "cells": [
    {
      "cell_type": "markdown",
      "metadata": {
        "toc": true,
        "id": "zKmQoabRK_uJ"
      },
      "source": [
        "<h1>Agenda<span class=\"tocSkip\"></span></h1>\n",
        "<div class=\"toc\"><ul class=\"toc-item\"><li><span><a href=\"#Prezentare\" data-toc-modified-id=\"Prezentare-1\"><span class=\"toc-item-num\">1&nbsp;&nbsp;</span>Prezentare</a></span><ul class=\"toc-item\"><li><span><a href=\"#About-me\" data-toc-modified-id=\"About-me-1.1\"><span class=\"toc-item-num\">1.1&nbsp;&nbsp;</span>About me</a></span></li><li><span><a href=\"#Motivation-/-Who-are-you?\" data-toc-modified-id=\"Motivation-/-Who-are-you?-1.2\"><span class=\"toc-item-num\">1.2&nbsp;&nbsp;</span>Motivation / Who are you?</a></span></li><li><span><a href=\"#Lab-Structure\" data-toc-modified-id=\"Lab-Structure-1.3\"><span class=\"toc-item-num\">1.3&nbsp;&nbsp;</span>Lab Structure</a></span><ul class=\"toc-item\"><li><span><a href=\"#Generics\" data-toc-modified-id=\"Generics-1.3.1\"><span class=\"toc-item-num\">1.3.1&nbsp;&nbsp;</span>Generics</a></span></li><li><span><a href=\"#What-do-you-know-about-ML?\" data-toc-modified-id=\"What-do-you-know-about-ML?-1.3.2\"><span class=\"toc-item-num\">1.3.2&nbsp;&nbsp;</span>What do you know about ML?</a></span></li><li><span><a href=\"#Ce-vom-invata?\" data-toc-modified-id=\"Ce-vom-invata?-1.3.3\"><span class=\"toc-item-num\">1.3.3&nbsp;&nbsp;</span>Ce vom invata?</a></span></li></ul></li></ul></li><li><span><a href=\"#Jupyter-notebook-tutorial\" data-toc-modified-id=\"Jupyter-notebook-tutorial-2\"><span class=\"toc-item-num\">2&nbsp;&nbsp;</span>Jupyter notebook tutorial</a></span></li><li><span><a href=\"#Python\" data-toc-modified-id=\"Python-3\"><span class=\"toc-item-num\">3&nbsp;&nbsp;</span>Python</a></span></li><li><span><a href=\"#Numpy\" data-toc-modified-id=\"Numpy-4\"><span class=\"toc-item-num\">4&nbsp;&nbsp;</span>Numpy</a></span></li><li><span><a href=\"#Linear-model\" data-toc-modified-id=\"Linear-model-5\"><span class=\"toc-item-num\">5&nbsp;&nbsp;</span>Linear model</a></span></li><li><span><a href=\"#Teme-pentru-acasa\" data-toc-modified-id=\"Teme-pentru-acasa-6\"><span class=\"toc-item-num\">6&nbsp;&nbsp;</span>Teme pentru acasa</a></span><ul class=\"toc-item\"><li><span><a href=\"#Install-the-workspace.zip-locally\" data-toc-modified-id=\"Install-the-workspace.zip-locally-6.1\"><span class=\"toc-item-num\">6.1&nbsp;&nbsp;</span>Install the workspace.zip locally</a></span><ul class=\"toc-item\"><li><span><a href=\"#Machine-Learning-Lab-workspace\" data-toc-modified-id=\"Machine-Learning-Lab-workspace-6.1.1\"><span class=\"toc-item-num\">6.1.1&nbsp;&nbsp;</span>Machine Learning Lab workspace</a></span></li><li><span><a href=\"#Installation-of-this-project\" data-toc-modified-id=\"Installation-of-this-project-6.1.2\"><span class=\"toc-item-num\">6.1.2&nbsp;&nbsp;</span>Installation of this project</a></span></li></ul></li><li><span><a href=\"#Cititi-sectiunile-despre-Python-and-Numpy\" data-toc-modified-id=\"Cititi-sectiunile-despre-Python-and-Numpy-6.2\"><span class=\"toc-item-num\">6.2&nbsp;&nbsp;</span>Read the sections about Python, Numpy and Linear models</a></span></li><li><span><a href=\"#Creati-o-copie-a-acestui-laboratorrator-si-asigurati-va-toate-comenzile-functioneaza-si-intelegeti-ce-fac\" data-toc-modified-id=\"Creati-o-copie-a-acestui-laborator-si-asigurati-va-ca-toate-comenzile-functioneaza-si-intelegeti-ce-fac-6.3\"><span class=\"toc-item-num\">6.3&nbsp;&nbsp;</span>Creati o copie a acestui laborator si asigurati-va ca toate comenzile functioneaza si intelegeti ce fac</a></span></li><li><span><a href=\"#Scrieti-o-clasa-Python-Point-pentru-reprezentarea-unui-punct-3D.\" data-toc-modified-id=\"Scrieti-o-clasa-Python-Point-pentru-reprezentarea-unui-punct-3D.-6.4\"><span class=\"toc-item-num\">6.4&nbsp;&nbsp;</span>Scrieti o clasa Python <code>Point</code> pentru reprezentarea unui punct 3D.</a></span></li><li><span><a href=\"#Rezolvati-cu-o-singura-comanda-urmatoarele-probleme-de-Numpy\" data-toc-modified-id=\"Rezolvati-cu-o-singura-comanda-urmatoarele-probleme-de-Numpy-6.5\"><span class=\"toc-item-num\">6.5&nbsp;&nbsp;</span>Rezolvati cu o singura comanda urmatoarele probleme de Numpy</a></span></li><li><span><a href=\"#Ce-reprezinta-numpy-broadcasting,-dati-exemple\" data-toc-modified-id=\"Ce-reprezinta-numpy-broadcasting,-dati-exemple-6.6\"><span class=\"toc-item-num\">6.6&nbsp;&nbsp;</span>Ce reprezinta numpy broadcasting, dati exemple</a></span></li></ul></li><li><span><a href=\"#Resurse\" data-toc-modified-id=\"Resurse-7\"><span class=\"toc-item-num\">7&nbsp;&nbsp;</span>Resurse</a></span></li></ul></div>"
      ]
    },
    {
      "cell_type": "markdown",
      "metadata": {
        "id": "hEfa1BA5K_uR"
      },
      "source": [
        "# Prezentare"
      ]
    },
    {
      "cell_type": "markdown",
      "metadata": {
        "id": "QY0hDWd9K_uS"
      },
      "source": [
        "## About me"
      ]
    },
    {
      "cell_type": "markdown",
      "metadata": {
        "id": "7NunKWcCK_uT"
      },
      "source": [
        "## Motivation / Who are you?"
      ]
    },
    {
      "cell_type": "markdown",
      "metadata": {
        "id": "g2g7T1hIK_uT"
      },
      "source": [
        "## Lab Structure"
      ]
    },
    {
      "cell_type": "markdown",
      "metadata": {
        "id": "8fNB5U7WK_uV"
      },
      "source": [
        "### Generics"
      ]
    },
    {
      "cell_type": "markdown",
      "metadata": {
        "id": "Flp_dTTAK_uV"
      },
      "source": [
        "### What do you know about ML?"
      ]
    },
    {
      "cell_type": "markdown",
      "metadata": {
        "id": "b9OzIGggK_uW"
      },
      "source": [
        "Stiu, voi amesteca pe alocuri engleza cu romana, deal with it!"
      ]
    },
    {
      "cell_type": "markdown",
      "metadata": {
        "id": "oS2kCDUUK_uX"
      },
      "source": [
        "### Ce vom invata?"
      ]
    },
    {
      "cell_type": "markdown",
      "metadata": {
        "id": "7sE2gGKMK_uY"
      },
      "source": [
        "* Lab 1 - Basics: Python, Anaconda \n",
        "* Lab 2 - Noțiuni matematice necesare: Numpy. Algebra liniară pentru învăţarea în automată. Statistică pentru învăţarea automată. Aplicaţii: 100_Numpy_exercises. (2h)\n",
        "* Lab 3 - Învățarea supervizată: Scikit-learn: Linear regression, Logistical Regression, Vectorization methods, Pipelines. Vedere de ansamblu a algoritmilor de învăţare automată. Aplicaţii: evolutia preturilor caselor din Alba-Iulia. (2h)\n",
        "* Lab 4 - Evaluarea modelelor. Keras & TensorFlow. Aplicaţii: vertebral_column_data or rossmann-store-sales datasets. (2h)\n",
        "* Lab 5-6 - Metode de clasificare - Arbori de decizie (Decision Trees). Aplicaţii: RandomForests. Entropy model: MNIST classification or Iris dataset (4h)\n",
        "* Lab 7 - Metode de clasificare – Învăţarea bazată pe instanţe. Metoda celor mai apropiaţi k vecini: KNN and NaiveBayes classifiers. (2h)\n",
        "* Lab 8 - Învățarea în rețele neuronale: Neural Networks (MLP), Backpropagation, Stochastical Gradient Descent, RNN's. Aplicaţii: Convolutions on MNIST (2h)\n",
        "* Lab 9 - Maşini cu suport vectorial SVM's. Aplicaţii. (2h)\n",
        "* Lab 10 - Învățarea nesupervizată. Metode de clusterizare. Aplicaţii: Iris dataset (2h)\n",
        "* Lab 11 - Tehnici folosite pentru prelucrarea imaginilor. \n",
        "Image processing: Vgg16, Cat vs. Dog, Kaggle, BatchNormalisation, ReLU, MaxPooling, .., Best practices: cifar-10-python dataset. (2h)\n",
        "* Lab 12 - Evaluarea activității de laborator. (2h)\n",
        "..\n",
        "\n",
        "* laboratorul X - Capsules tool, Attention, GAN's, generative models "
      ]
    },
    {
      "cell_type": "markdown",
      "metadata": {
        "id": "bix5cRwyK_uZ"
      },
      "source": [
        "Might change, if is to fast or irelevant"
      ]
    },
    {
      "cell_type": "markdown",
      "metadata": {
        "ExecuteTime": {
          "end_time": "2018-02-28T03:05:01.973101Z",
          "start_time": "2018-02-28T03:05:01.970641Z"
        },
        "id": "mmlCCxOfK_ua"
      },
      "source": [
        "# Jupyter notebook tutorial"
      ]
    },
    {
      "cell_type": "markdown",
      "metadata": {
        "ExecuteTime": {
          "end_time": "2018-02-28T03:05:35.043596Z",
          "start_time": "2018-02-28T03:05:35.032941Z"
        },
        "id": "8OmiHrOyK_u5"
      },
      "source": [
        "Ce folosesc acum se numeste *Jupyer*\n",
        "    * un *IDE* online pentru Python\n",
        "    * folosit pentru explorare, prototyping si data-science\n",
        "\n",
        "Mod de folosire:\n",
        "    * jurnal academic\n",
        "        * reproducible\n",
        "        * add only\n",
        "        * comments\n",
        "        * experiments\n",
        "    * celule\n",
        "        * 2 moduri: Y - cod, M - text\n",
        "        * text - Markdown (LaTeX)\n",
        "        * cod - python"
      ]
    },
    {
      "cell_type": "markdown",
      "metadata": {
        "id": "KQXZe8onK_u6"
      },
      "source": [
        "I want to print some Latex formulas:\n",
        "\n",
        "$$\\sum_i(100)$$"
      ]
    },
    {
      "cell_type": "markdown",
      "metadata": {
        "id": "BOpGxPwMK_u7"
      },
      "source": [
        "Let's see if I can write code here"
      ]
    },
    {
      "cell_type": "code",
      "execution_count": null,
      "metadata": {
        "ExecuteTime": {
          "end_time": "2019-02-15T17:44:56.893383Z",
          "start_time": "2019-02-15T17:44:56.886964Z"
        },
        "id": "lnVpc6VFK_u8",
        "outputId": "25ae3f2f-84ab-458d-9771-71ee31816e30",
        "colab": {
          "base_uri": "https://localhost:8080/"
        }
      },
      "outputs": [
        {
          "output_type": "execute_result",
          "data": {
            "text/plain": [
              "1647500157.4690166"
            ]
          },
          "metadata": {},
          "execution_count": 1
        }
      ],
      "source": [
        "import time\n",
        "time.time()"
      ]
    },
    {
      "cell_type": "markdown",
      "metadata": {
        "id": "CMeoHnsMK_vA"
      },
      "source": [
        "I don't like so many decimal places...\n",
        "\n",
        "I will round"
      ]
    },
    {
      "cell_type": "code",
      "execution_count": null,
      "metadata": {
        "ExecuteTime": {
          "end_time": "2019-02-15T17:45:32.612985Z",
          "start_time": "2019-02-15T17:45:32.607858Z"
        },
        "id": "C11WlXqhK_vB",
        "outputId": "8762a825-5c0e-4cc2-ea46-77511dd9f81a"
      },
      "outputs": [
        {
          "data": {
            "text/plain": [
              "1550252732.609"
            ]
          },
          "execution_count": 4,
          "metadata": {},
          "output_type": "execute_result"
        }
      ],
      "source": [
        "np.round(time.time(), 3)"
      ]
    },
    {
      "cell_type": "markdown",
      "metadata": {
        "id": "x6T0LL2DK_vB"
      },
      "source": [
        "Much better!"
      ]
    },
    {
      "cell_type": "markdown",
      "metadata": {
        "id": "5VAG0s9cK_vC"
      },
      "source": [
        "Experiment if the code allways refletcts the output"
      ]
    },
    {
      "cell_type": "code",
      "execution_count": null,
      "metadata": {
        "ExecuteTime": {
          "end_time": "2019-02-15T17:57:17.254015Z",
          "start_time": "2019-02-15T17:57:17.248766Z"
        },
        "id": "UbdTaw1HK_vC",
        "outputId": "8be39bd4-f6da-4651-81e1-717e81521daa"
      },
      "outputs": [
        {
          "data": {
            "text/plain": [
              "'this is a text'"
            ]
          },
          "execution_count": 7,
          "metadata": {},
          "output_type": "execute_result"
        }
      ],
      "source": [
        "from random import randint\n",
        "string = \"this is a text\"\n",
        "string"
      ]
    },
    {
      "cell_type": "markdown",
      "metadata": {
        "id": "oDGLlggJK_vD"
      },
      "source": [
        "I want to demonstrate that expressions without outputs do not print anything even if they are the last command in a cell. "
      ]
    },
    {
      "cell_type": "code",
      "execution_count": null,
      "metadata": {
        "ExecuteTime": {
          "end_time": "2019-02-16T10:21:01.991634Z",
          "start_time": "2019-02-16T10:21:01.988504Z"
        },
        "id": "td2knhI8K_vD"
      },
      "outputs": [],
      "source": [
        "string = \"my_text\""
      ]
    },
    {
      "cell_type": "markdown",
      "metadata": {
        "id": "Qo7EfTaFK_vE"
      },
      "source": [
        "The last command is displayed using an internal `display` function that, depending on the output type renders is differently (for plots it draws, for strings it prints, for animations it plays, for tables it draws a table, etc..) "
      ]
    },
    {
      "cell_type": "code",
      "execution_count": null,
      "metadata": {
        "ExecuteTime": {
          "end_time": "2019-02-15T18:01:48.504883Z",
          "start_time": "2019-02-15T18:01:48.500524Z"
        },
        "id": "RwIFQ4MiK_vE",
        "outputId": "196615b2-b6ce-4367-f796-4e98996cf3e3"
      },
      "outputs": [
        {
          "data": {
            "text/plain": [
              "1550253708.5017612"
            ]
          },
          "metadata": {},
          "output_type": "display_data"
        }
      ],
      "source": [
        "from IPython.display import display \n",
        "display(time.time())"
      ]
    },
    {
      "cell_type": "markdown",
      "metadata": {
        "id": "Vv0jp4p6K_vF"
      },
      "source": [
        "Test that we need print if we want to debug a nested code. In order to inspect the contents of \"string\" we must issue a print statement."
      ]
    },
    {
      "cell_type": "code",
      "execution_count": null,
      "metadata": {
        "ExecuteTime": {
          "end_time": "2019-02-15T00:43:44.956963Z",
          "start_time": "2019-02-15T00:43:44.952030Z"
        },
        "id": "Am__k-lQK_vF",
        "outputId": "b44bb7d5-7c04-4193-8425-ec58a9522f59"
      },
      "outputs": [
        {
          "name": "stdout",
          "output_type": "stream",
          "text": [
            "something else\n"
          ]
        }
      ],
      "source": [
        "string = \"something else\"\n",
        "print(string)\n",
        "other_var = string"
      ]
    },
    {
      "cell_type": "markdown",
      "metadata": {
        "id": "U7Gi1_npK_vF"
      },
      "source": [
        "Do we keep the variables context on refresh? Press F5! If we loose the context (i.e. the whole jupyter program is restarted), we expect that `other_var` will not contain any value when executing the code bellow."
      ]
    },
    {
      "cell_type": "code",
      "execution_count": null,
      "metadata": {
        "ExecuteTime": {
          "end_time": "2019-02-15T00:43:47.006755Z",
          "start_time": "2019-02-15T00:43:47.002034Z"
        },
        "id": "GUw8l9p7K_vG",
        "outputId": "d1d3e8b8-08e7-4770-b430-6d2b6cdf1a08"
      },
      "outputs": [
        {
          "data": {
            "text/plain": [
              "'something else'"
            ]
          },
          "execution_count": 4,
          "metadata": {},
          "output_type": "execute_result"
        }
      ],
      "source": [
        "other_var"
      ]
    },
    {
      "cell_type": "markdown",
      "metadata": {
        "id": "pwHOhzb0K_vG"
      },
      "source": [
        "Since after the page refresh, `other_var` still holds the proper value, we conclude that the session is persisted between refresh. This is called a **kernel** (a python session that is kept active on the server and which retains all the current variables and state).  "
      ]
    },
    {
      "cell_type": "markdown",
      "metadata": {
        "id": "EwvYr5ekK_vG"
      },
      "source": [
        "Restarting a kernel: 00"
      ]
    },
    {
      "cell_type": "markdown",
      "metadata": {
        "id": "34b0xcTOK_vH"
      },
      "source": [
        "Press 'H' for help"
      ]
    },
    {
      "cell_type": "markdown",
      "metadata": {
        "id": "dpWY4pwJK_vH"
      },
      "source": [
        "# Python"
      ]
    },
    {
      "cell_type": "markdown",
      "metadata": {
        "id": "5jQe-LKxK_vH"
      },
      "source": [
        "Homework: read [xkcd](http://www.xkcd.com)"
      ]
    },
    {
      "cell_type": "markdown",
      "metadata": {
        "id": "O-0KmzvGK_vH"
      },
      "source": [
        "* Limbaj interpretat\n",
        "* Wrapper peste C++\n",
        "* OOP / functional"
      ]
    },
    {
      "cell_type": "markdown",
      "metadata": {
        "id": "nw18a2jBK_vI"
      },
      "source": [
        "![Python](https://imgs.xkcd.com/comics/python.png)"
      ]
    },
    {
      "cell_type": "markdown",
      "metadata": {
        "id": "AaolkP75K_vI"
      },
      "source": [
        "Like really?"
      ]
    },
    {
      "cell_type": "code",
      "execution_count": null,
      "metadata": {
        "ExecuteTime": {
          "end_time": "2019-02-15T00:44:08.256803Z",
          "start_time": "2019-02-15T00:44:08.252535Z"
        },
        "id": "oVSZbXcDK_vI",
        "outputId": "64ce9e9a-ce84-4cac-9c59-dfe349db0630"
      },
      "outputs": [
        {
          "name": "stdout",
          "output_type": "stream",
          "text": [
            "Hello world!\n"
          ]
        }
      ],
      "source": [
        "print(\"Hello world!\")"
      ]
    },
    {
      "cell_type": "markdown",
      "metadata": {
        "id": "ynqk7vBOK_vI"
      },
      "source": [
        "Well, nu poate fi chiar totul adevarat"
      ]
    },
    {
      "cell_type": "code",
      "execution_count": null,
      "metadata": {
        "ExecuteTime": {
          "end_time": "2019-02-15T18:09:48.493232Z",
          "start_time": "2019-02-15T18:09:48.487363Z"
        },
        "id": "THJLgaxMK_vJ"
      },
      "outputs": [],
      "source": [
        "import antigravity"
      ]
    },
    {
      "cell_type": "code",
      "execution_count": null,
      "metadata": {
        "ExecuteTime": {
          "end_time": "2019-02-15T18:10:50.976410Z",
          "start_time": "2019-02-15T18:10:50.918851Z"
        },
        "id": "orW8BLPEK_vJ"
      },
      "outputs": [],
      "source": [
        "antigravity.geohash??"
      ]
    },
    {
      "cell_type": "markdown",
      "metadata": {
        "id": "GMZzHZ46K_vJ"
      },
      "source": [
        "Ba da, exista un modul numit \"antigravity\". Wtf is this??"
      ]
    },
    {
      "cell_type": "markdown",
      "metadata": {
        "ExecuteTime": {
          "end_time": "2018-02-28T03:07:43.148450Z",
          "start_time": "2018-02-28T03:07:43.145204Z"
        },
        "id": "LjmzjyWtK_vJ"
      },
      "source": [
        "Defining a function"
      ]
    },
    {
      "cell_type": "code",
      "execution_count": null,
      "metadata": {
        "ExecuteTime": {
          "end_time": "2019-02-15T00:44:23.736305Z",
          "start_time": "2019-02-15T00:44:23.732962Z"
        },
        "id": "nbQ-sEz8K_vK"
      },
      "outputs": [],
      "source": [
        "def function(a, b):\n",
        "    \"\"\"\n",
        "    This is a docstring of a function that does nothing\n",
        "    \"\"\"\n",
        "    pass"
      ]
    },
    {
      "cell_type": "markdown",
      "metadata": {
        "id": "dnpcDbiGK_vK"
      },
      "source": [
        "Write a function that multiplies three numbers together.."
      ]
    },
    {
      "cell_type": "code",
      "execution_count": null,
      "metadata": {
        "ExecuteTime": {
          "end_time": "2019-02-20T19:44:51.651934Z",
          "start_time": "2019-02-20T19:44:51.647211Z"
        },
        "id": "62jvLRjvK_vK"
      },
      "outputs": [],
      "source": [
        "def multiply_three_numbers(a, b, c):\n",
        "    return a * b * c"
      ]
    },
    {
      "cell_type": "code",
      "execution_count": null,
      "metadata": {
        "ExecuteTime": {
          "end_time": "2019-02-20T19:44:52.365326Z",
          "start_time": "2019-02-20T19:44:52.347309Z"
        },
        "id": "s-vMH9bQK_vL",
        "outputId": "f7343849-0d77-4859-a6e5-8b7a998f0f6e"
      },
      "outputs": [
        {
          "data": {
            "text/plain": [
              "6"
            ]
          },
          "execution_count": 2,
          "metadata": {},
          "output_type": "execute_result"
        }
      ],
      "source": [
        "multiply_three_numbers(1, 2, 3)"
      ]
    },
    {
      "cell_type": "markdown",
      "metadata": {
        "id": "5SaSQampK_vL"
      },
      "source": [
        "We don't have types.. Actually we have \"duck typing\"... (`if it quacks like a duck and walks like a duck, then it's most likely a duck.`)"
      ]
    },
    {
      "cell_type": "code",
      "execution_count": null,
      "metadata": {
        "ExecuteTime": {
          "end_time": "2019-02-20T19:45:35.453673Z",
          "start_time": "2019-02-20T19:45:35.447119Z"
        },
        "id": "neZ8ovtIK_vM",
        "outputId": "e14123ff-3fd9-4abe-ccf2-95635eb9ebe6"
      },
      "outputs": [
        {
          "data": {
            "text/plain": [
              "str"
            ]
          },
          "execution_count": 3,
          "metadata": {},
          "output_type": "execute_result"
        }
      ],
      "source": [
        "type(\"a\")"
      ]
    },
    {
      "cell_type": "code",
      "execution_count": null,
      "metadata": {
        "ExecuteTime": {
          "end_time": "2019-02-15T00:44:35.916388Z",
          "start_time": "2019-02-15T00:44:35.912037Z"
        },
        "id": "V0iJVGpsK_vM"
      },
      "outputs": [],
      "source": [
        "def f(something): # could be anything here, we'll only find out at run time\n",
        "    if isinstance(something, str):\n",
        "        print(ord(something[0]) + 1)\n",
        "    else:\n",
        "        var = 10\n",
        "    var_b = 12\n",
        "    return something"
      ]
    },
    {
      "cell_type": "markdown",
      "metadata": {
        "id": "dT6Aqv9UK_vM"
      },
      "source": [
        "We can pass any values to `f`. It's unsafe, but `we're all grownups here`"
      ]
    },
    {
      "cell_type": "code",
      "execution_count": null,
      "metadata": {
        "ExecuteTime": {
          "end_time": "2019-02-15T00:44:37.488180Z",
          "start_time": "2019-02-15T00:44:37.482193Z"
        },
        "id": "DEllWxUuK_vN",
        "outputId": "b2cb10f2-59c5-4e95-db7f-4cf6f28bd402"
      },
      "outputs": [
        {
          "name": "stdout",
          "output_type": "stream",
          "text": [
            "98\n"
          ]
        },
        {
          "data": {
            "text/plain": [
              "(1, 'a', None)"
            ]
          },
          "execution_count": 11,
          "metadata": {},
          "output_type": "execute_result"
        }
      ],
      "source": [
        "f(1), f('a'), f(None)"
      ]
    },
    {
      "cell_type": "markdown",
      "metadata": {
        "id": "5ZZBhl0jK_vN"
      },
      "source": [
        "Handling exceptions"
      ]
    },
    {
      "cell_type": "code",
      "execution_count": null,
      "metadata": {
        "ExecuteTime": {
          "end_time": "2019-02-15T00:44:39.557127Z",
          "start_time": "2019-02-15T00:44:39.553273Z"
        },
        "id": "20YRpg2XK_vO",
        "outputId": "9069f3d3-6411-49ab-8d73-1eae89b7a6d8"
      },
      "outputs": [
        {
          "name": "stdout",
          "output_type": "stream",
          "text": [
            "Traceback (most recent call last):\n",
            "  File \"<ipython-input-12-cb86d8bfb731>\", line 4, in <module>\n",
            "    raise AssertionError(\"Trigger and exception\")\n",
            "AssertionError: Trigger and exception\n",
            "\n"
          ]
        }
      ],
      "source": [
        "import traceback\n",
        "try:\n",
        "    a = \"This is a useless line\"\n",
        "    raise AssertionError(\"Trigger and exception\")\n",
        "except AssertionError:\n",
        "    print(traceback.format_exc())"
      ]
    },
    {
      "cell_type": "markdown",
      "metadata": {
        "id": "j_oidrXpK_vO"
      },
      "source": [
        "Classes and OOP"
      ]
    },
    {
      "cell_type": "code",
      "execution_count": null,
      "metadata": {
        "ExecuteTime": {
          "end_time": "2019-02-21T14:53:45.261861Z",
          "start_time": "2019-02-21T14:53:45.159756Z"
        },
        "id": "WGeuwnptK_vO",
        "outputId": "bb71b5e9-e800-4af5-975d-d0f4513f0ded"
      },
      "outputs": [
        {
          "data": {
            "text/plain": [
              "3"
            ]
          },
          "execution_count": 2,
          "metadata": {},
          "output_type": "execute_result"
        }
      ],
      "source": [
        "class Complex(object):\n",
        "    def __init__(self, real, imag):\n",
        "        self._real = real\n",
        "        self._imag = imag\n",
        "    \n",
        "    def add(self, another_complex_number):\n",
        "        self._real += another_complex_number._real\n",
        "        self._imag += another_complex_number._imag\n",
        "        return self\n",
        "    \n",
        "a = Complex(1, 1)\n",
        "b = Complex(1, 2)\n",
        "a.add(b)._imag"
      ]
    },
    {
      "cell_type": "markdown",
      "metadata": {
        "id": "9rLcCaO2K_vP"
      },
      "source": [
        "* Notice the \"self\" stuff\n",
        "* The last command of a cell is always displayed\n",
        "* Notice we don't have the notion of \"private\" fields (they're all public)"
      ]
    },
    {
      "cell_type": "markdown",
      "metadata": {
        "id": "A-O77do2K_vP"
      },
      "source": [
        "Variable inspector.. (check out the target button - circle with 4 lines - in the above toolbar)"
      ]
    },
    {
      "cell_type": "code",
      "execution_count": null,
      "metadata": {
        "ExecuteTime": {
          "end_time": "2019-02-15T18:49:34.775428Z",
          "start_time": "2019-02-15T18:49:34.772461Z"
        },
        "id": "zAAKFrIIK_vP"
      },
      "outputs": [],
      "source": [
        "c = b"
      ]
    },
    {
      "cell_type": "markdown",
      "metadata": {
        "id": "PaMpJFTSK_vQ"
      },
      "source": [
        "Example of `list comprehension` (defining a list by enumerating the elements with an embedded `for` loop)\n",
        "\n",
        "\n",
        "`range` produces 1 to 10 elements, going 2 by 2, a range of numbers."
      ]
    },
    {
      "cell_type": "code",
      "execution_count": null,
      "metadata": {
        "ExecuteTime": {
          "end_time": "2019-02-20T19:51:49.661931Z",
          "start_time": "2019-02-20T19:51:49.651175Z"
        },
        "id": "x92vLylHK_vQ",
        "outputId": "a92dd145-7546-4095-c0c0-5a3cbedc7bfa"
      },
      "outputs": [
        {
          "data": {
            "text/plain": [
              "[1, 3, 5, 7, 9]"
            ]
          },
          "execution_count": 5,
          "metadata": {},
          "output_type": "execute_result"
        }
      ],
      "source": [
        "a_list = [i for i in range(1, 10, 2)]\n",
        "a_list"
      ]
    },
    {
      "cell_type": "markdown",
      "metadata": {
        "id": "ddwxKsilK_vQ"
      },
      "source": [
        "Bellow you can see an example of a `dictionary comprehension`"
      ]
    },
    {
      "cell_type": "code",
      "execution_count": null,
      "metadata": {
        "ExecuteTime": {
          "end_time": "2019-02-20T19:50:02.154847Z",
          "start_time": "2019-02-20T19:50:02.147175Z"
        },
        "id": "4LkAco7iK_vR",
        "outputId": "fe5e6895-cef6-406a-892a-0247b9b8a836"
      },
      "outputs": [
        {
          "data": {
            "text/plain": [
              "{0: 10, 1: 11, 2: 12, 3: 13, 4: 14, 5: 15, 6: 16, 7: 17, 8: 18, 9: 19}"
            ]
          },
          "execution_count": 4,
          "metadata": {},
          "output_type": "execute_result"
        }
      ],
      "source": [
        "{i:i+10 for i in range(10) }"
      ]
    },
    {
      "cell_type": "markdown",
      "metadata": {
        "id": "OppTOmO2K_vR"
      },
      "source": [
        "`Set comprehension` example. Notice that unlike on dictionaries (above) we don't have the form `key: value` at the begging. It's just `i`.\n",
        "\n",
        "Sets don't have order and only store `unique` elements."
      ]
    },
    {
      "cell_type": "code",
      "execution_count": null,
      "metadata": {
        "ExecuteTime": {
          "end_time": "2019-02-15T00:45:02.438507Z",
          "start_time": "2019-02-15T00:45:02.433234Z"
        },
        "id": "oQchVu4YK_vR",
        "outputId": "341b02d5-c9e9-4741-cd93-b8ce7c0a5eec"
      },
      "outputs": [
        {
          "data": {
            "text/plain": [
              "{0, 1, 2, 3, 4, 5, 6, 7, 8, 9}"
            ]
          },
          "execution_count": 17,
          "metadata": {},
          "output_type": "execute_result"
        }
      ],
      "source": [
        "{i for i in range(10)}"
      ]
    },
    {
      "cell_type": "markdown",
      "metadata": {
        "id": "WqgKian5K_vR"
      },
      "source": [
        "Reversing a list is done with (the rather obscure) form `[::-1]`"
      ]
    },
    {
      "cell_type": "code",
      "execution_count": null,
      "metadata": {
        "ExecuteTime": {
          "end_time": "2019-02-20T19:52:35.081333Z",
          "start_time": "2019-02-20T19:52:35.075275Z"
        },
        "id": "DXCeDz-KK_vS",
        "outputId": "126cde2f-8e7f-4afd-8fef-cbacbfa3a57d"
      },
      "outputs": [
        {
          "data": {
            "text/plain": [
              "[9, 7, 5, 3, 1]"
            ]
          },
          "execution_count": 6,
          "metadata": {},
          "output_type": "execute_result"
        }
      ],
      "source": [
        "a_reversed = a_list[::-1]\n",
        "a_reversed"
      ]
    },
    {
      "cell_type": "markdown",
      "metadata": {
        "id": "xeQK711BK_vS"
      },
      "source": [
        "If we say `[0:4]` it means we want all the elements between 0 and 4. This is called a `slice`"
      ]
    },
    {
      "cell_type": "code",
      "execution_count": null,
      "metadata": {
        "ExecuteTime": {
          "end_time": "2019-02-20T19:53:20.353035Z",
          "start_time": "2019-02-20T19:53:20.347051Z"
        },
        "id": "En-CE2r9K_vS",
        "outputId": "9ac5d1be-ab72-4fd1-f4e3-c95b1cb61f7c"
      },
      "outputs": [
        {
          "data": {
            "text/plain": [
              "[1, 3, 5, 7]"
            ]
          },
          "execution_count": 7,
          "metadata": {},
          "output_type": "execute_result"
        }
      ],
      "source": [
        "a_split = a_list[0:4]\n",
        "a_split"
      ]
    },
    {
      "cell_type": "markdown",
      "metadata": {
        "id": "MldSR4iYK_vT"
      },
      "source": [
        "Negative indexed go back, as if the list were circular. `L[-2]` means the `second to last` element."
      ]
    },
    {
      "cell_type": "code",
      "execution_count": null,
      "metadata": {
        "ExecuteTime": {
          "end_time": "2019-02-20T19:53:58.953161Z",
          "start_time": "2019-02-20T19:53:58.946965Z"
        },
        "id": "XJLLN1g4K_vT",
        "outputId": "1aca354e-1b07-459d-f6be-ab453af385fc"
      },
      "outputs": [
        {
          "data": {
            "text/plain": [
              "7"
            ]
          },
          "execution_count": 8,
          "metadata": {},
          "output_type": "execute_result"
        }
      ],
      "source": [
        "a_list[-2]"
      ]
    },
    {
      "cell_type": "code",
      "execution_count": null,
      "metadata": {
        "ExecuteTime": {
          "end_time": "2019-02-20T19:56:15.577290Z",
          "start_time": "2019-02-20T19:56:15.567718Z"
        },
        "id": "NDug6yBPK_vT",
        "outputId": "170f48f0-6574-465b-9727-1783e3c5beb0"
      },
      "outputs": [
        {
          "data": {
            "text/plain": [
              "[2, 3, 7, 5, 7, 8, 10, 4, 10, 6]"
            ]
          },
          "execution_count": 9,
          "metadata": {},
          "output_type": "execute_result"
        }
      ],
      "source": [
        "import random\n",
        "r = [random.randint(0, 10) for _ in range(10)]\n",
        "r"
      ]
    },
    {
      "cell_type": "code",
      "execution_count": null,
      "metadata": {
        "ExecuteTime": {
          "end_time": "2019-02-20T19:56:17.554257Z",
          "start_time": "2019-02-20T19:56:17.547855Z"
        },
        "id": "PuzuvUQeK_vU",
        "outputId": "0202e150-3dba-4d8b-c9cf-c379d4126ca4"
      },
      "outputs": [
        {
          "data": {
            "text/plain": [
              "[2, 3, 4, 5, 6, 7, 7, 8, 10, 10]"
            ]
          },
          "execution_count": 10,
          "metadata": {},
          "output_type": "execute_result"
        }
      ],
      "source": [
        "sorted(r)"
      ]
    },
    {
      "cell_type": "code",
      "execution_count": null,
      "metadata": {
        "ExecuteTime": {
          "end_time": "2019-02-15T00:45:14.317557Z",
          "start_time": "2019-02-15T00:45:14.312752Z"
        },
        "id": "kKsZW-XmK_vU",
        "outputId": "fe038c45-6ee9-4b35-b5eb-128a15dec316"
      },
      "outputs": [
        {
          "data": {
            "text/plain": [
              "(dict, dict)"
            ]
          },
          "execution_count": 23,
          "metadata": {},
          "output_type": "execute_result"
        }
      ],
      "source": [
        "m = dict()\n",
        "n = {} # same stuff\n",
        "\n",
        "type(m), type(n)"
      ]
    },
    {
      "cell_type": "code",
      "execution_count": null,
      "metadata": {
        "ExecuteTime": {
          "end_time": "2019-02-15T00:45:15.428311Z",
          "start_time": "2019-02-15T00:45:15.423594Z"
        },
        "id": "sItWAqvPK_vU",
        "outputId": "ec48cbdf-b390-4ad0-b280-d8a435d1b710"
      },
      "outputs": [
        {
          "data": {
            "text/plain": [
              "{'a': 1, 4: 'b'}"
            ]
          },
          "execution_count": 24,
          "metadata": {},
          "output_type": "execute_result"
        }
      ],
      "source": [
        "m['a'] = 1\n",
        "m[4] = 'b'\n",
        "\n",
        "m"
      ]
    },
    {
      "cell_type": "markdown",
      "metadata": {
        "id": "EpUfdv-fK_vV"
      },
      "source": [
        "Dictionarele nu trebuie fie omogene in tipul de informatie pe care il retin"
      ]
    },
    {
      "cell_type": "code",
      "execution_count": null,
      "metadata": {
        "ExecuteTime": {
          "end_time": "2019-02-15T00:45:17.777643Z",
          "start_time": "2019-02-15T00:45:17.773316Z"
        },
        "id": "1n-zVqgUK_vV",
        "outputId": "e50adfaa-5a7a-4a23-8a7d-5298c3c7dfd9"
      },
      "outputs": [
        {
          "data": {
            "text/plain": [
              "{'a': 1,\n",
              " 4: 'b',\n",
              " <module 'random' from '/Envs/virt_cristi/lib/python3.6/random.py'>: <function __main__.f(something)>}"
            ]
          },
          "execution_count": 25,
          "metadata": {},
          "output_type": "execute_result"
        }
      ],
      "source": [
        "m[random] = f\n",
        "m"
      ]
    },
    {
      "cell_type": "markdown",
      "metadata": {
        "id": "1SmczQQnK_vV"
      },
      "source": [
        "Cool? Not quite, don't get to fancy with this."
      ]
    },
    {
      "cell_type": "markdown",
      "metadata": {
        "id": "zvSM0CVFK_vW"
      },
      "source": [
        "# Numpy"
      ]
    },
    {
      "cell_type": "markdown",
      "metadata": {
        "id": "9yQ1HtyzK_vW"
      },
      "source": [
        "NumPy este pachetul fundamental necesar pentru calculul științific cu Python"
      ]
    },
    {
      "cell_type": "markdown",
      "metadata": {
        "id": "Kcq4wTQfK_vW"
      },
      "source": [
        "   * un puternic N-dimensional array object\n",
        "   * funcții sofisticate (broadcasting) \n",
        "   * funcții de algebră liniară de bază\n",
        "   * transformate Fourier de bază\n",
        "   * capabilități sofisticate de numere aleatoare\n",
        "   * instrumente pentru integrarea codului Fortran\n",
        "   * instrumente pentru integrarea codului C/C++"
      ]
    },
    {
      "cell_type": "markdown",
      "metadata": {
        "id": "XhqLWwENK_vW"
      },
      "source": [
        "[Numpy](https://docs.scipy.org/doc/numpy/about.html)"
      ]
    },
    {
      "cell_type": "code",
      "execution_count": null,
      "metadata": {
        "ExecuteTime": {
          "end_time": "2019-02-15T00:45:20.846276Z",
          "start_time": "2019-02-15T00:45:20.843206Z"
        },
        "id": "3LPmeeN7K_vX"
      },
      "outputs": [],
      "source": [
        "import numpy as np"
      ]
    },
    {
      "cell_type": "code",
      "execution_count": null,
      "metadata": {
        "ExecuteTime": {
          "end_time": "2019-02-15T00:45:21.718246Z",
          "start_time": "2019-02-15T00:45:21.713556Z"
        },
        "id": "80wt02UeK_vX",
        "outputId": "f944454a-3c0f-4c5c-8af4-bae7edf37030"
      },
      "outputs": [
        {
          "data": {
            "text/plain": [
              "array([1, 2, 3])"
            ]
          },
          "execution_count": 27,
          "metadata": {},
          "output_type": "execute_result"
        }
      ],
      "source": [
        "a = np.array([1, 2, 3])\n",
        "a"
      ]
    },
    {
      "cell_type": "code",
      "execution_count": null,
      "metadata": {
        "ExecuteTime": {
          "end_time": "2019-02-15T00:45:22.668288Z",
          "start_time": "2019-02-15T00:45:22.663816Z"
        },
        "id": "p-y18HF6K_vX",
        "outputId": "7f04cd5b-34a6-474a-c8c6-e2022571895d"
      },
      "outputs": [
        {
          "data": {
            "text/plain": [
              "array([3, 4, 5])"
            ]
          },
          "execution_count": 28,
          "metadata": {},
          "output_type": "execute_result"
        }
      ],
      "source": [
        "b = np.array([3, 4, 5])\n",
        "b"
      ]
    },
    {
      "cell_type": "code",
      "execution_count": null,
      "metadata": {
        "ExecuteTime": {
          "end_time": "2019-02-15T00:45:24.797613Z",
          "start_time": "2019-02-15T00:45:24.793373Z"
        },
        "id": "rYeTeD8lK_vY",
        "outputId": "3f9fa975-6816-47b9-b068-7bc1e3c109a8"
      },
      "outputs": [
        {
          "data": {
            "text/plain": [
              "array([4, 6, 8])"
            ]
          },
          "execution_count": 29,
          "metadata": {},
          "output_type": "execute_result"
        }
      ],
      "source": [
        "a + b"
      ]
    },
    {
      "cell_type": "code",
      "execution_count": null,
      "metadata": {
        "ExecuteTime": {
          "end_time": "2019-02-15T00:45:27.657747Z",
          "start_time": "2019-02-15T00:45:27.653401Z"
        },
        "id": "HRHVoMTRK_vY",
        "outputId": "86bf7cd8-2f1c-4433-c676-e3ca5996d385"
      },
      "outputs": [
        {
          "data": {
            "text/plain": [
              "array([ 3,  8, 15])"
            ]
          },
          "execution_count": 30,
          "metadata": {},
          "output_type": "execute_result"
        }
      ],
      "source": [
        "a * b"
      ]
    },
    {
      "cell_type": "markdown",
      "metadata": {
        "id": "7l2UyYC2K_vY"
      },
      "source": [
        "* No loops, basically\n",
        "* Highly efficient"
      ]
    },
    {
      "cell_type": "code",
      "execution_count": null,
      "metadata": {
        "ExecuteTime": {
          "end_time": "2019-02-15T00:45:32.591137Z",
          "start_time": "2019-02-15T00:45:32.585375Z"
        },
        "id": "oV2smkMtK_vY",
        "outputId": "5e3fbabb-df66-4538-8ff5-bbd272a8e658"
      },
      "outputs": [
        {
          "data": {
            "text/plain": [
              "array([[-1.39766309, -0.69714824, -1.05938602,  0.17364023, -0.25459138],\n",
              "       [ 1.07242965,  0.18735622, -0.72809818,  1.5058633 ,  0.52524143],\n",
              "       [ 0.00900656,  0.09681444,  0.96944948,  0.33242547,  0.53478814],\n",
              "       [ 1.17907189, -1.55144599,  1.43224648,  0.82326989, -1.70407808]])"
            ]
          },
          "execution_count": 31,
          "metadata": {},
          "output_type": "execute_result"
        }
      ],
      "source": [
        "a = np.random.normal(size=(4, 5))\n",
        "a"
      ]
    },
    {
      "cell_type": "markdown",
      "metadata": {
        "id": "P8ZqEcLZK_vZ"
      },
      "source": [
        "Multidimensional"
      ]
    },
    {
      "cell_type": "code",
      "execution_count": null,
      "metadata": {
        "ExecuteTime": {
          "end_time": "2019-02-15T00:45:34.727605Z",
          "start_time": "2019-02-15T00:45:34.722689Z"
        },
        "id": "A78WBSnGK_vZ",
        "outputId": "0b0873ef-f9dd-4822-a758-2c592dfea6bd"
      },
      "outputs": [
        {
          "data": {
            "text/plain": [
              "array([[-13.97663086,  -6.97148239, -10.59386018,   1.73640225,\n",
              "         -2.54591377],\n",
              "       [ 10.72429649,   1.87356222,  -7.2809818 ,  15.05863298,\n",
              "          5.25241428],\n",
              "       [  0.0900656 ,   0.96814441,   9.69449475,   3.32425471,\n",
              "          5.3478814 ],\n",
              "       [ 11.79071887, -15.51445986,  14.32246475,   8.23269886,\n",
              "        -17.04078084]])"
            ]
          },
          "execution_count": 32,
          "metadata": {},
          "output_type": "execute_result"
        }
      ],
      "source": [
        "a * 10"
      ]
    },
    {
      "cell_type": "code",
      "execution_count": null,
      "metadata": {
        "ExecuteTime": {
          "end_time": "2019-02-15T00:45:36.456682Z",
          "start_time": "2019-02-15T00:45:36.452559Z"
        },
        "id": "-DRMLjX1K_vZ",
        "outputId": "da866371-0aa7-4923-fdfa-708406e78eb9"
      },
      "outputs": [
        {
          "data": {
            "text/plain": [
              "(4, 5)"
            ]
          },
          "execution_count": 33,
          "metadata": {},
          "output_type": "execute_result"
        }
      ],
      "source": [
        "a.shape"
      ]
    },
    {
      "cell_type": "markdown",
      "metadata": {
        "id": "uKpZ-ak-K_va"
      },
      "source": [
        "* Homework: Findout about broadcasting"
      ]
    },
    {
      "cell_type": "markdown",
      "metadata": {
        "id": "W833mveIK_va"
      },
      "source": [
        "# Linear model"
      ]
    },
    {
      "cell_type": "markdown",
      "metadata": {
        "id": "qdFErtM6K_va"
      },
      "source": [
        "Sa presupunem ca vrem sa modelam evolutia preturilor caselor din Alba-Iulia.\n",
        "\n",
        "Stim ca exista o corelatie intre pretul unei locuinte si suprafata unui apartament in mp.  \n",
        "Presupunem de asemenea ca aceasta corelatie respecta o crestere lineara."
      ]
    },
    {
      "cell_type": "markdown",
      "metadata": {
        "id": "HpLFYyyvK_va"
      },
      "source": [
        "We assume the function to be deduced is \n",
        "\n",
        "$$y = x * 0.1 + 0.3$$\n"
      ]
    },
    {
      "cell_type": "code",
      "execution_count": null,
      "metadata": {
        "ExecuteTime": {
          "end_time": "2019-02-15T18:53:00.847258Z",
          "start_time": "2019-02-15T18:53:00.835975Z"
        },
        "id": "a0Uoa0JTK_vb",
        "outputId": "7b9eac18-4153-4cd5-c571-7927d5726c4f"
      },
      "outputs": [
        {
          "data": {
            "text/plain": [
              "array([0.72416866, 0.58664757, 0.49551275, 0.18021187, 0.48155877,\n",
              "       0.38808838, 0.8240877 , 0.647835  , 0.0579473 , 0.82256407,\n",
              "       0.85209304, 0.92759025, 0.8729109 , 0.7480292 , 0.1848257 ,\n",
              "       0.8544234 , 0.3536944 , 0.7516275 , 0.30210552, 0.7572307 ,\n",
              "       0.21292135, 0.10951675, 0.8946822 , 0.90202314, 0.91774213,\n",
              "       0.578182  , 0.23533207, 0.6127766 , 0.00154378, 0.48214313,\n",
              "       0.86280906, 0.42103818, 0.6066787 , 0.89020556, 0.39482594,\n",
              "       0.37586653, 0.35475174, 0.19183071, 0.41180983, 0.7320694 ,\n",
              "       0.2026055 , 0.84695154, 0.01168723, 0.808254  , 0.81258243,\n",
              "       0.97314143, 0.01148982, 0.08970689, 0.26037148, 0.29264897,\n",
              "       0.81182224, 0.4224678 , 0.09131667, 0.9151158 , 0.4743909 ,\n",
              "       0.04969337, 0.49241242, 0.27833775, 0.44705975, 0.5870461 ,\n",
              "       0.20971589, 0.9087666 , 0.3088295 , 0.73934245, 0.29118338,\n",
              "       0.69104666, 0.5550516 , 0.976112  , 0.22539926, 0.67581654,\n",
              "       0.2457779 , 0.5476739 , 0.8709142 , 0.58480763, 0.29745033,\n",
              "       0.4445728 , 0.24841158, 0.8082837 , 0.7184813 , 0.01930149,\n",
              "       0.52483934, 0.13014448, 0.25282678, 0.70906955, 0.2615312 ,\n",
              "       0.46994886, 0.658866  , 0.5449122 , 0.54317224, 0.5800441 ,\n",
              "       0.5270495 , 0.8239692 , 0.5979449 , 0.1047591 , 0.6661384 ,\n",
              "       0.68353844, 0.19591129, 0.01986169, 0.73779464, 0.33822253],\n",
              "      dtype=float32)"
            ]
          },
          "execution_count": 14,
          "metadata": {},
          "output_type": "execute_result"
        }
      ],
      "source": [
        "# Generate some random data\n",
        "x_data = np.random.rand(100).astype(np.float32)\n",
        "x_data"
      ]
    },
    {
      "cell_type": "markdown",
      "metadata": {
        "id": "pKFf5oojK_vb"
      },
      "source": [
        "Generate on the above function, and the previous random values, y_data "
      ]
    },
    {
      "cell_type": "code",
      "execution_count": null,
      "metadata": {
        "ExecuteTime": {
          "end_time": "2019-02-15T18:53:12.752272Z",
          "start_time": "2019-02-15T18:53:12.748820Z"
        },
        "id": "Z5eZurGWK_vb"
      },
      "outputs": [],
      "source": [
        "y_data = x_data * 0.1 + 0.3"
      ]
    },
    {
      "cell_type": "markdown",
      "metadata": {
        "id": "3nrPvufhK_vc"
      },
      "source": [
        "Our goal, is, given only some (fuzzy) data points, to find the line that best describes the data"
      ]
    },
    {
      "cell_type": "code",
      "execution_count": null,
      "metadata": {
        "ExecuteTime": {
          "end_time": "2019-02-15T18:53:20.997549Z",
          "start_time": "2019-02-15T18:53:20.991794Z"
        },
        "id": "DPCIBcQ6K_vc",
        "outputId": "24b048e4-397e-405b-e411-7b67fe2c1ea9"
      },
      "outputs": [
        {
          "data": {
            "text/plain": [
              "(100,)"
            ]
          },
          "execution_count": 16,
          "metadata": {},
          "output_type": "execute_result"
        }
      ],
      "source": [
        "noise = np.random.normal(scale=0.01, size=(100,))\n",
        "noise.shape"
      ]
    },
    {
      "cell_type": "code",
      "execution_count": null,
      "metadata": {
        "ExecuteTime": {
          "end_time": "2019-02-15T18:53:32.550075Z",
          "start_time": "2019-02-15T18:53:32.192685Z"
        },
        "id": "jZyBYikIK_vc",
        "outputId": "918d83c0-d8f5-428a-d799-6fe404ddf402"
      },
      "outputs": [
        {
          "data": {
            "image/png": "[encoded data removed]",
            "text/plain": [
              "<Figure size 432x288 with 1 Axes>"
            ]
          },
          "metadata": {},
          "output_type": "display_data"
        }
      ],
      "source": [
        "def chart(x, y):\n",
        "    \"\"\"\n",
        "    This only prints a simple chart \n",
        "    \"\"\"\n",
        "    %matplotlib inline\n",
        "    from matplotlib import pyplot as plt\n",
        "    # Plot outputs\n",
        "    plt.ylabel(\"Pretul casei\")\n",
        "    plt.scatter(x, y,  color='black')\n",
        "    plt.xticks(())\n",
        "    plt.yticks(())\n",
        "    plt.show()\n",
        "    \n",
        "chart(x_data, y_data + noise)"
      ]
    },
    {
      "cell_type": "markdown",
      "metadata": {
        "id": "0BjJ57xnK_vd"
      },
      "source": [
        "Telul nostru este ca din datele pe care le avem sa descoperim cele doua variable (a, b) == (0.1, 0.3) care definesc cea linia cea mai representativa"
      ]
    },
    {
      "cell_type": "markdown",
      "metadata": {
        "id": "bqRdz-EPK_vd"
      },
      "source": [
        "Sa presupunem ca avem o astfel de linie (stim a, b), cum putem sti cat de bine se potriveste ea cu datele?"
      ]
    },
    {
      "cell_type": "markdown",
      "metadata": {
        "id": "NQcvumTEK_vd"
      },
      "source": [
        "$$y.predicted_i = a * x_i + b$$\n",
        "\n",
        "$$ \\mathcal{L}(y,x,a, b) = \\dfrac{1}{M} \\sum_{i=1}^{M} \\sqrt{(y.true_i - y.predicted_i)^2}$$"
      ]
    },
    {
      "cell_type": "code",
      "execution_count": null,
      "metadata": {
        "ExecuteTime": {
          "end_time": "2019-02-15T00:45:57.801189Z",
          "start_time": "2019-02-15T00:45:57.794407Z"
        },
        "id": "W2fO3NYdK_vd"
      },
      "outputs": [],
      "source": [
        "def gradient(a, b, x, y):\n",
        "    y_predicted = x * a + b\n",
        "    error = (y - y_predicted)\n",
        "    a_ = -(1.0/len(x)) * 2 * np.sum(error * x)\n",
        "    b_ = -(1.0/len(x)) * 2 * np.sum(error)\n",
        "    return a_, b_"
      ]
    },
    {
      "cell_type": "markdown",
      "metadata": {
        "id": "cDIIvEMUK_ve"
      },
      "source": [
        "alpha is learning rate"
      ]
    },
    {
      "cell_type": "code",
      "execution_count": null,
      "metadata": {
        "ExecuteTime": {
          "end_time": "2019-02-15T00:45:59.991537Z",
          "start_time": "2019-02-15T00:45:59.983168Z"
        },
        "id": "YA_zwOBNK_ve",
        "outputId": "fe425983-7f33-479e-9348-a7b643f0d07a"
      },
      "outputs": [
        {
          "name": "stdout",
          "output_type": "stream",
          "text": [
            "0.09978669494910285 0.3001239691893366\n"
          ]
        }
      ],
      "source": [
        "a, b = np.random.randn(2)\n",
        "\n",
        "alpha = 0.5\n",
        "for i in range(100):\n",
        "    (a_, b_) = gradient(a, b, x_data, y_data)\n",
        "    a = a - alpha * a_\n",
        "    b = b - alpha * b_\n",
        "print(a, b)"
      ]
    },
    {
      "cell_type": "code",
      "execution_count": null,
      "metadata": {
        "ExecuteTime": {
          "end_time": "2019-02-15T00:46:26.041451Z",
          "start_time": "2019-02-15T00:46:25.953884Z"
        },
        "id": "MbFYyhztK_ve",
        "outputId": "dd58ca7c-3c5e-4826-8851-5a0f5264588d"
      },
      "outputs": [
        {
          "data": {
            "image/png": "[encoded data removed]",
            "text/plain": [
              "<Figure size 432x288 with 1 Axes>"
            ]
          },
          "metadata": {},
          "output_type": "display_data"
        }
      ],
      "source": [
        "def final_plot(x, y, a, b):\n",
        "    %matplotlib inline\n",
        "    from matplotlib import pyplot as plt\n",
        "\n",
        "    # Plot outputs\n",
        "    plt.ylabel(\"Pretul casei\")\n",
        "    plt.scatter(x, y,  color='black')\n",
        "    plt.xticks(())\n",
        "    plt.yticks(())\n",
        "    plt.plot([0, -b/a], [b, 0])\n",
        "    plt.show()\n",
        "\n",
        "final_plot(x_data, y_data + noise, a, b)"
      ]
    },
    {
      "cell_type": "markdown",
      "metadata": {
        "id": "WIIqIUc2K_vf"
      },
      "source": [
        "# Teme pentru acasa"
      ]
    },
    {
      "cell_type": "markdown",
      "metadata": {
        "id": "yrs8cBLWK_vg"
      },
      "source": [
        "## Cititi sectiunile despre Python, Numpy !!"
      ]
    },
    {
      "cell_type": "markdown",
      "metadata": {
        "id": "JWq6LrprK_vg"
      },
      "source": [
        "## Creati o copie a acestui laborator si asigurati-va ca toate comenzile functioneaza si intelegeti ce fac."
      ]
    },
    {
      "cell_type": "markdown",
      "metadata": {
        "id": "6gZEwCEgK_vg"
      },
      "source": [
        "## Scrieti o clasa Python `Point` pentru reprezentarea unui punct 3D. "
      ]
    },
    {
      "cell_type": "markdown",
      "metadata": {
        "id": "G-EnVvObK_vh"
      },
      "source": [
        "* scrieti metode pentru\n",
        "    * calcularea distantei (euclidiene) pana la alt punct dat\n",
        "    * afisarea punctului (un echivalent to_string)\n",
        "* avand un punct, printati pe rand, valoarea x, y si z a sa"
      ]
    },
    {
      "cell_type": "markdown",
      "metadata": {
        "id": "U-h34g9-K_vh"
      },
      "source": [
        "## Rezolvati cu o singura comanda urmatoarele probleme de Numpy"
      ]
    },
    {
      "cell_type": "markdown",
      "metadata": {
        "id": "LPlYm48uK_vh"
      },
      "source": [
        "* Importati numpy (ca np) si printati versiunea\n",
        "* Creati un array unidimensional cu numere de la 1 la 10\n",
        "* Creati un array 3x3 cu toate valorile True\n",
        "* Printati toate elementele pare dintr-un array\n",
        "* Inlocuiti elementele de pe pozitiile pare dintr-un array cu valoarea -1\n",
        "* Redimensionati un array de dimensiune 100 intr-unul (50, 2)"
      ]
    },
    {
      "cell_type": "markdown",
      "metadata": {
        "id": "XNcHhlNbK_vh"
      },
      "source": [
        "## Ce reprezinta numpy broadcasting, dati exemple"
      ]
    },
    {
      "cell_type": "markdown",
      "metadata": {
        "id": "0OfMTHExK_vi"
      },
      "source": [
        "# Resurse"
      ]
    },
    {
      "cell_type": "markdown",
      "metadata": {
        "id": "v1DEwt9vK_vi"
      },
      "source": [
        "[Jupyter Notbook tutorial](https://www.datacamp.com/community/tutorials/tutorial-jupyter-notebook)  \n",
        "[Python tutorial](https://www.stavros.io/tutorials/python/)  \n",
        "[Tutorial numpy](https://cs231n.github.io/python-numpy-tutorial/)  \n",
        "\n"
      ]
    }
  ],
  "metadata": {
    "kernelspec": {
      "display_name": "Python 3",
      "language": "python",
      "name": "python3"
    },
    "language_info": {
      "codemirror_mode": {
        "name": "ipython",
        "version": 3
      },
      "file_extension": ".py",
      "mimetype": "text/x-python",
      "name": "python",
      "nbconvert_exporter": "python",
      "pygments_lexer": "ipython3",
      "version": "3.6.8"
    },
    "latex_envs": {
      "LaTeX_envs_menu_present": true,
      "autocomplete": true,
      "bibliofile": "biblio.bib",
      "cite_by": "apalike",
      "current_citInitial": 1,
      "eqLabelWithNumbers": true,
      "eqNumInitial": 1,
      "hotkeys": {
        "equation": "Ctrl-E",
        "itemize": "Ctrl-I"
      },
      "labels_anchors": false,
      "latex_user_defs": false,
      "report_style_numbering": false,
      "user_envs_cfg": false
    },
    "toc": {
      "base_numbering": 1,
      "nav_menu": {},
      "number_sections": true,
      "sideBar": true,
      "skip_h1_title": false,
      "title_cell": "Agenda",
      "title_sidebar": "Contents",
      "toc_cell": true,
      "toc_position": {
        "height": "calc(100% - 180px)",
        "left": "10px",
        "top": "150px",
        "width": "190px"
      },
      "toc_section_display": true,
      "toc_window_display": true
    },
    "varInspector": {
      "cols": {
        "lenName": 16,
        "lenType": 16,
        "lenVar": 40
      },
      "kernels_config": {
        "python": {
          "delete_cmd_postfix": "",
          "delete_cmd_prefix": "del ",
          "library": "var_list.py",
          "varRefreshCmd": "print(var_dic_list())"
        },
        "r": {
          "delete_cmd_postfix": ") ",
          "delete_cmd_prefix": "rm(",
          "library": "var_list.r",
          "varRefreshCmd": "cat(var_dic_list()) "
        }
      },
      "position": {
        "height": "235px",
        "left": "773px",
        "right": "20px",
        "top": "140px",
        "width": "350px"
      },
      "types_to_exclude": [
        "module",
        "function",
        "builtin_function_or_method",
        "instance",
        "_Feature"
      ],
      "window_display": false
    },
    "colab": {
      "name": "ML Lab.ipynb",
      "provenance": [],
      "collapsed_sections": [
        "yrs8cBLWK_vg",
        "JWq6LrprK_vg",
        "XNcHhlNbK_vh"
      ]
    }
  },
  "nbformat": 4,
  "nbformat_minor": 0
}